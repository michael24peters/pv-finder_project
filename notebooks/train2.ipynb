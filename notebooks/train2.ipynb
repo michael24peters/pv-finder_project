{
 "cells": [
  {
   "cell_type": "code",
   "execution_count": 1,
   "id": "315c344e",
   "metadata": {},
   "outputs": [],
   "source": [
    "%%capture _ \n",
    "# ^ this just silences warnings\n",
    "import torch\n",
    "import mlflow\n",
    "# import hiddenlayer as HL\n",
    "\n",
    "from model.collectdata_mdsA import collect_data\n",
    "from model.collectdata_poca_KDE import collect_data_poca\n",
    "from model.alt_loss_A import Loss\n",
    "from model.training import trainNet, select_gpu\n",
    "from model.utilities import load_full_state, count_parameters, Params, save_to_mlflow\n",
    "\n",
    "from model.autoencoder_models import UNet\n",
    "from model.autoencoder_models import UNetPlusPlus\n",
    "#from model.allcnn_models import ACN_2i4_8L_DenseNet_BN as DenseNet\n",
    "from model.autoencoder_models import DenseNet as DenseNet"
   ]
  },
  {
   "cell_type": "code",
   "execution_count": 2,
   "id": "fd140e6e",
   "metadata": {},
   "outputs": [
    {
     "name": "stdout",
     "output_type": "stream",
     "text": [
      "1 available GPUs (initially using device 0):\n",
      "  0 GeForce RTX 3090\n"
     ]
    },
    {
     "name": "stderr",
     "output_type": "stream",
     "text": [
      "/apps/miniconda3/envs/june2020-gpu/lib/python3.7/site-packages/ipykernel/ipkernel.py:287: DeprecationWarning: `should_run_async` will not call `transform_cell` automatically in the future. Please pass the result to `transformed_cell` argument and any exception that happen during thetransform in `preprocessing_exc_tuple` in IPython 7.17 and above.\n",
      "  and should_run_async(code)\n"
     ]
    }
   ],
   "source": [
    "args = Params(\n",
    "    batch_size=64,\n",
    "    device = select_gpu(2),\n",
    "    epochs=100,\n",
    "    lr=1e-4,\n",
    "    experiment_name='Top Models',\n",
    "    asymmetry_parameter=12\n",
    ")"
   ]
  },
  {
   "cell_type": "code",
   "execution_count": 3,
   "id": "e46ddee9",
   "metadata": {},
   "outputs": [
    {
     "name": "stdout",
     "output_type": "stream",
     "text": [
      "Loading data...\n",
      "Loaded /share/lazy/will/data/June30_2020_80k_1.h5 in 26.39 s\n",
      "Loaded /share/lazy/will/data/June30_2020_80k_3.h5 in 26.42 s\n",
      "Loaded /share/lazy/will/data/June30_2020_80k_4.h5 in 26.5 s\n",
      "Loaded /share/lazy/will/data/June30_2020_80k_5.h5 in 31.33 s\n",
      "Constructing 320000 event dataset took 0.5751 s\n"
     ]
    },
    {
     "ename": "RuntimeError",
     "evalue": "[enforce fail at CPUAllocator.cpp:67] . DefaultCPUAllocator: can't allocate memory: you tried to allocate 20480000000 bytes. Error code 12 (Cannot allocate memory)",
     "output_type": "error",
     "traceback": [
      "\u001b[0;31m---------------------------------------------------------------------------\u001b[0m",
      "\u001b[0;31mRuntimeError\u001b[0m                              Traceback (most recent call last)",
      "\u001b[0;32m<ipython-input-3-1be7dc929d5f>\u001b[0m in \u001b[0;36m<module>\u001b[0;34m\u001b[0m\n\u001b[1;32m     39\u001b[0m                             \u001b[0mmasking\u001b[0m\u001b[0;34m=\u001b[0m\u001b[0;32mTrue\u001b[0m\u001b[0;34m,\u001b[0m \u001b[0mshuffle\u001b[0m\u001b[0;34m=\u001b[0m\u001b[0;32mTrue\u001b[0m\u001b[0;34m,\u001b[0m\u001b[0;34m\u001b[0m\u001b[0;34m\u001b[0m\u001b[0m\n\u001b[1;32m     40\u001b[0m                             \u001b[0mload_A_and_B\u001b[0m\u001b[0;34m=\u001b[0m\u001b[0;32mTrue\u001b[0m\u001b[0;34m,\u001b[0m\u001b[0;34m\u001b[0m\u001b[0;34m\u001b[0m\u001b[0m\n\u001b[0;32m---> 41\u001b[0;31m                             \u001b[0mload_xy\u001b[0m\u001b[0;34m=\u001b[0m\u001b[0;32mTrue\u001b[0m\u001b[0;34m,\u001b[0m\u001b[0;34m\u001b[0m\u001b[0;34m\u001b[0m\u001b[0m\n\u001b[0m\u001b[1;32m     42\u001b[0m                            \u001b[0;31m## slice = slice(0,18000)\u001b[0m\u001b[0;34m\u001b[0m\u001b[0;34m\u001b[0m\u001b[0;34m\u001b[0m\u001b[0m\n\u001b[1;32m     43\u001b[0m                            )\n",
      "\u001b[0;32m~/pv-finder_fork/pv-finder/notebooks/model/collectdata_poca_KDE.py\u001b[0m in \u001b[0;36mcollect_data_poca\u001b[0;34m(batch_size, dtype, device, masking, slice, load_xy, load_A_and_B, load_XandXsq, *files, **kargs)\u001b[0m\n\u001b[1;32m    171\u001b[0m \u001b[0;34m\u001b[0m\u001b[0m\n\u001b[1;32m    172\u001b[0m     \u001b[0;32mwith\u001b[0m \u001b[0mTimer\u001b[0m\u001b[0;34m(\u001b[0m\u001b[0mstart\u001b[0m\u001b[0;34m=\u001b[0m\u001b[0;34mf\"Constructing {X.shape[0]} event dataset\"\u001b[0m\u001b[0;34m)\u001b[0m\u001b[0;34m:\u001b[0m\u001b[0;34m\u001b[0m\u001b[0;34m\u001b[0m\u001b[0m\n\u001b[0;32m--> 173\u001b[0;31m         \u001b[0mx_t\u001b[0m \u001b[0;34m=\u001b[0m \u001b[0mtorch\u001b[0m\u001b[0;34m.\u001b[0m\u001b[0mtensor\u001b[0m\u001b[0;34m(\u001b[0m\u001b[0mX\u001b[0m\u001b[0;34m)\u001b[0m\u001b[0;34m\u001b[0m\u001b[0;34m\u001b[0m\u001b[0m\n\u001b[0m\u001b[1;32m    174\u001b[0m         \u001b[0my_t\u001b[0m \u001b[0;34m=\u001b[0m \u001b[0mtorch\u001b[0m\u001b[0;34m.\u001b[0m\u001b[0mtensor\u001b[0m\u001b[0;34m(\u001b[0m\u001b[0mY\u001b[0m\u001b[0;34m)\u001b[0m\u001b[0;34m\u001b[0m\u001b[0;34m\u001b[0m\u001b[0m\n\u001b[1;32m    175\u001b[0m \u001b[0;34m\u001b[0m\u001b[0m\n",
      "\u001b[0;31mRuntimeError\u001b[0m: [enforce fail at CPUAllocator.cpp:67] . DefaultCPUAllocator: can't allocate memory: you tried to allocate 20480000000 bytes. Error code 12 (Cannot allocate memory)"
     ]
    }
   ],
   "source": [
    "'''\n",
    "train_loader = collect_data(\n",
    "    '/share/lazy/sokoloff/ML-data_A/Aug14_80K_train.h5',\n",
    "      '/share/lazy/sokoloff/ML-data_AA/Oct03_80K_train.h5',\n",
    "#     '/share/lazy/sokoloff/ML-data_AA/Oct03_40K_train.h5',\n",
    "      '/share/lazy/will/ML_mdsA/June30_2020_80k_1.h5',\n",
    "     '/share/lazy/will/ML_mdsA/June30_2020_80k_3.h5',\n",
    "     '/share/lazy/will/ML_mdsA/June30_2020_80k_4.h5',\n",
    "#     '/share/lazy/will/ML_mdsA/June30_2020_80k_5.h5',\n",
    "#     '/share/lazy/will/ML_mdsA/June30_2020_80k_6.h5',\n",
    "#     '/share/lazy/will/ML_mdsA/June30_2020_80k_7.h5',\n",
    "#     '/share/lazy/will/ML_mdsA/June30_2020_80k_8.h5',\n",
    "#     '/share/lazy/will/ML_mdsA/June30_2020_80k_9.h5',\n",
    "    batch_size=args['batch_size'],\n",
    "    masking=True,\n",
    "    shuffle=False,\n",
    "    load_XandXsq=False,\n",
    "#     device = args['device'], \n",
    "    load_xy=False)\n",
    "\n",
    "val_loader = collect_data(\n",
    "    '/share/lazy/sokoloff/ML-data_AA/Oct03_20K_val.h5',\n",
    "    batch_size=args['batch_size'],\n",
    "    slice=slice(256 * 39),\n",
    "    masking=True, \n",
    "    shuffle=False,\n",
    "    load_XandXsq=False,\n",
    "    load_xy=False)\n",
    "'''\n",
    "\n",
    "events = 320000\n",
    "## This is used when training with the new KDE\n",
    "train_loader = collect_data_poca('/share/lazy/will/data/June30_2020_80k_1.h5',\n",
    "                            '/share/lazy/will/data/June30_2020_80k_3.h5',\n",
    "                            '/share/lazy/will/data/June30_2020_80k_4.h5',\n",
    "                            '/share/lazy/will/data/June30_2020_80k_5.h5',\n",
    "                            batch_size=args['batch_size'],\n",
    "                            #device=args['device'],\n",
    "                            masking=True, shuffle=True,\n",
    "                            load_A_and_B=True,\n",
    "                            load_xy=True,\n",
    "                           ## slice = slice(0,18000)\n",
    "                           )\n",
    "\n",
    "val_loader = collect_data_poca('/share/lazy/sokoloff/ML-data_AA/20K_POCA_kernel_evts_200926.h5',\n",
    "                            batch_size=args['batch_size'],\n",
    "                            #device=args['device'],\n",
    "                            masking=True, shuffle=True,\n",
    "                            load_A_and_B=True,\n",
    "                            load_xy=True,\n",
    "                            ##slice = slice(18000,None)\n",
    "                           )"
   ]
  },
  {
   "cell_type": "code",
   "execution_count": null,
   "id": "af029f57",
   "metadata": {},
   "outputs": [],
   "source": [
    "mlflow.tracking.set_tracking_uri('file:/share/lazy/pv-finder_model_repo')\n",
    "mlflow.set_experiment(args['experiment_name'])"
   ]
  },
  {
   "cell_type": "code",
   "execution_count": null,
   "id": "26c14d11",
   "metadata": {},
   "outputs": [],
   "source": [
    "model = DenseNet().to(args['device'])\n",
    "#model.to(\"cuda:0\")\n",
    "optimizer = torch.optim.Adam(model.parameters(), lr=args['lr'])\n",
    "loss = Loss(epsilon=1e-5,coefficient=args['asymmetry_parameter'])\n",
    "\n",
    "parameters = sum(p.numel() for p in model.parameters() if p.requires_grad)"
   ]
  },
  {
   "cell_type": "code",
   "execution_count": null,
   "id": "83a612da",
   "metadata": {},
   "outputs": [],
   "source": [
    "#load_full_state(model, optimizer, '/share/lazy/pv-finder_model_repo/24/873839e8e86949d5ba313ab0b8dfa21b/artifacts/run_stats.pyt')\n",
    "\n",
    "run_name = 'dense_net'\n",
    "\n",
    "# tune kernel based on gpu\n",
    "#torch.backends.cudnn.benchmark=True\n",
    "train_iter = enumerate(trainNet(model, optimizer, loss, train_loader, val_loader, args['epochs'], notebook=True))\n",
    "with mlflow.start_run(run_name = run_name) as run:\n",
    "    mlflow.log_artifact('train2.ipynb')\n",
    "    for i, result in train_iter:\n",
    "        print(result.cost)\n",
    "        torch.save(model, 'run_stats.pyt')\n",
    "        mlflow.log_artifact('run_stats.pyt')\n",
    "\n",
    "        save_to_mlflow({\n",
    "            'Metric: Training loss':result.cost,\n",
    "            'Metric: Validation loss':result.val,\n",
    "            'Metric: Efficiency':result.eff_val.eff_rate,\n",
    "            'Metric: False positive rate':result.eff_val.fp_rate,\n",
    "            'Param: Parameters':parameters,\n",
    "            'Param: Events':events,\n",
    "            'Param: Asymmetry':args['asymmetry_parameter'],\n",
    "            'Param: Epochs':args['epochs'],\n",
    "            'Param: Learning Rate':args['lr'],\n",
    "        }, step=i)"
   ]
  },
  {
   "cell_type": "code",
   "execution_count": null,
   "id": "93dfd62f",
   "metadata": {},
   "outputs": [],
   "source": []
  },
  {
   "cell_type": "code",
   "execution_count": null,
   "id": "9cf59333",
   "metadata": {},
   "outputs": [],
   "source": []
  }
 ],
 "metadata": {
  "kernelspec": {
   "display_name": "june2020-gpu",
   "language": "python",
   "name": "june2020-gpu"
  },
  "language_info": {
   "codemirror_mode": {
    "name": "ipython",
    "version": 3
   },
   "file_extension": ".py",
   "mimetype": "text/x-python",
   "name": "python",
   "nbconvert_exporter": "python",
   "pygments_lexer": "ipython3",
   "version": "3.7.6"
  }
 },
 "nbformat": 4,
 "nbformat_minor": 5
}
